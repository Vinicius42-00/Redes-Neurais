{
 "cells": [
  {
   "cell_type": "markdown",
   "metadata": {},
   "source": [
    "<div align=\"center\"> Tarefa 4 - Testar a ELM com validação de treino e teste\n",
    "<div align=\"center\"> Redes Neurais \n",
    "<div align=\"center\"> Vinícius Marques de Oliveira\n",
    "<div align=\"center\"> Ifes — Campus Serra — PPComp\n",
    "<div align=\"center\"> 2021/1"
   ]
  },
  {
   "cell_type": "code",
   "execution_count": 2,
   "metadata": {},
   "outputs": [],
   "source": [
    "import matplotlib.pyplot as plt\n",
    "import numpy as np\n",
    "from sklearn.datasets import make_blobs\n",
    "from sklearn.preprocessing import label_binarize\n",
    "\n",
    "def geradataset(tamanho=20, centros=[[0,0],[1,0],[1,1],[0,1]]):\n",
    "    X, y = make_blobs(n_samples=tamanho, centers=centros, cluster_std=0.2)\n",
    "    y = np.array(y%2, dtype=int)\n",
    "    return X, y\n",
    "\n",
    "def plotadataset(X, y):\n",
    "    plt.xlabel('X1')\n",
    "    plt.ylabel('X2')\n",
    "    for k in set(y):\n",
    "        plt.plot(X[:,0][y==k],X[:,1][y==k], \"o\", alpha=0.3)\n",
    "\n",
    "def plotahiperplano(vetor, bias=0, xmin=0, xmax=1):\n",
    "    xs = np.linspace(xmin, xmax, num=2)\n",
    "    ys = (-vetor[0] / vetor[1]) * xs - bias / vetor[1]\n",
    "    plt.plot(xs,ys)"
   ]
  },
  {
   "cell_type": "code",
   "execution_count": 3,
   "metadata": {},
   "outputs": [],
   "source": [
    "class CustoPerceptron():\n",
    "    @staticmethod\n",
    "    def erro(y, ypred):\n",
    "        return y - ypred\n",
    "    @staticmethod\n",
    "    def custo(y, ypred):\n",
    "        return np.sum(CustoPerceptron.erro(y, ypred)**2)\n",
    "    @staticmethod\n",
    "    def gradiente(y, ypred, X):\n",
    "        return np.matmul(X.T, CustoPerceptron.erro(y, ypred))\n",
    "\n",
    "class Adaline():\n",
    "    def __init__(self):\n",
    "        self.preactivated = True\n",
    "    @staticmethod\n",
    "    def erro(y, ypred):\n",
    "        return y - ypred\n",
    "    @staticmethod\n",
    "    def custo(y, ypred):\n",
    "        return np.sum((1 - Adaline.erro(y, ypred))**2)\n",
    "    @staticmethod\n",
    "    def gradiente(y, ypred, X):\n",
    "        return np.matmul(X.T, Adaline.erro(y, ypred))"
   ]
  },
  {
   "cell_type": "code",
   "execution_count": 4,
   "metadata": {},
   "outputs": [],
   "source": [
    "class DescidaGradiente():\n",
    "    def __init__(self, custo=Adaline(), maxiter=1000, alpha=0.005):\n",
    "        self.custo = custo\n",
    "        self.maxiter = maxiter\n",
    "        self.alpha = alpha\n",
    "    \n",
    "    def getW(self, X, y, activation=lambda a: a):\n",
    "        w = np.random.uniform(-1, -1, size=(X.shape[1], y.shape[1]))\n",
    "        for _ in range(self.maxiter):\n",
    "            ypred = activation(np.matmul(X, w))\n",
    "            custo = self.custo.custo(y, ypred)\n",
    "            if custo == 0:\n",
    "                break\n",
    "            w = w + self.alpha * self.custo.gradiente(y, ypred, X)\n",
    "        return w\n",
    "\n",
    "class PseudoInversa():\n",
    "    def __init__(self):\n",
    "        pass\n",
    "    def getW(self, X, y):\n",
    "        pinv = np.linalg.pinv(X)\n",
    "        w = np.matmul(pinv, y)\n",
    "        return w"
   ]
  },
  {
   "cell_type": "code",
   "execution_count": 5,
   "metadata": {},
   "outputs": [],
   "source": [
    "from sklearn.base import BaseEstimator, ClassifierMixin\n",
    "from scipy.special import expit\n",
    "\n",
    "def tanh(a):\n",
    "    return expit(a) * 2 - 1\n",
    "\n",
    "class ExtremeLearningMachine(BaseEstimator, ClassifierMixin):\n",
    "    def __init__(self, algoritmo=PseudoInversa()):\n",
    "        self.wih = None\n",
    "        self.w = None\n",
    "        self.threshold = 0\n",
    "        self.activation = tanh\n",
    "        self.algoritmo = algoritmo\n",
    "    \n",
    "    @staticmethod\n",
    "    def includebias(X):\n",
    "        bias = np.ones((X.shape[0],1))\n",
    "        Xb = np.concatenate((bias,X), axis=1)\n",
    "        return Xb\n",
    "    \n",
    "    def fit(self, X, y):\n",
    "        self.wih = np.random.uniform(-1, 1, size=(X.shape[1],X.shape[1] * 3))\n",
    "        Xh = np.matmul(X, self.wih)\n",
    "        Xho = self.activation(Xh)\n",
    "        X = ExtremeLearningMachine.includebias(Xho)\n",
    "        self.labels = list(set(y))\n",
    "        y = label_binarize(y, classes=self.labels)*2-1\n",
    "        if len(self.labels) == 2 :\n",
    "            y = y[:,0:1]\n",
    "        # treinamento\n",
    "        if hasattr(self.algoritmo, 'custo') and not (hasattr(self.algoritmo.custo, 'preactivated') and self.algoritmo.custo.preactivated):\n",
    "            self.w = self.algoritmo.getW(X, y, self.activation)\n",
    "        else:\n",
    "            self.w = self.algoritmo.getW(X, y)\n",
    "\n",
    "    def predict(self, X):\n",
    "        Xh = np.matmul(X, self.wih)\n",
    "        Xho = self.activation(Xh)\n",
    "        Xb = ExtremeLearningMachine.includebias(Xho)\n",
    "        a = np.matmul(Xb, self.w)\n",
    "        if self.w.shape[1] > 1:\n",
    "            idx = np.argmax(a, axis=1) \n",
    "        else:\n",
    "            idx = np.array(self.activation(a) > self.threshold, dtype=int)[:,0]\n",
    "        ypred = np.array([self.labels[i] for i in idx])\n",
    "        return ypred"
   ]
  },
  {
   "cell_type": "code",
   "execution_count": 6,
   "metadata": {},
   "outputs": [
    {
     "name": "stdout",
     "output_type": "stream",
     "text": [
      "1.0\n"
     ]
    }
   ],
   "source": [
    "elm = ExtremeLearningMachine()\n",
    "X, y = geradataset(100)\n",
    "elm.fit(X, y)\n",
    "ypred = elm.predict(X)\n",
    "print(sum(y == ypred)/len(y))\n"
   ]
  },
  {
   "cell_type": "markdown",
   "metadata": {},
   "source": [
    "Utilizando Base de Teste "
   ]
  },
  {
   "cell_type": "code",
   "execution_count": 7,
   "metadata": {},
   "outputs": [
    {
     "name": "stdout",
     "output_type": "stream",
     "text": [
      "0.9722\n"
     ]
    }
   ],
   "source": [
    "X_test, y_test = geradataset(10000)\n",
    "ypred = elm.predict(X_test)\n",
    "print(sum(y_test == ypred)/len(y_test))"
   ]
  },
  {
   "cell_type": "code",
   "execution_count": null,
   "metadata": {},
   "outputs": [],
   "source": []
  }
 ],
 "metadata": {
  "kernelspec": {
   "display_name": "Python 3",
   "language": "python",
   "name": "python3"
  },
  "language_info": {
   "codemirror_mode": {
    "name": "ipython",
    "version": 3
   },
   "file_extension": ".py",
   "mimetype": "text/x-python",
   "name": "python",
   "nbconvert_exporter": "python",
   "pygments_lexer": "ipython3",
   "version": "3.8.3"
  }
 },
 "nbformat": 4,
 "nbformat_minor": 4
}
